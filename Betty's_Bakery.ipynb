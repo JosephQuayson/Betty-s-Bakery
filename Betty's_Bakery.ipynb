{
 "cells": [
  {
   "cell_type": "code",
   "execution_count": null,
   "metadata": {},
   "outputs": [],
   "source": [
    "import numpy as np\n",
    "\n"
   ]
  },
  {
   "cell_type": "code",
   "execution_count": null,
   "metadata": {},
   "outputs": [],
   "source": [
    "cupcakes=np.array([2,0.75,2,1,0.5])\n",
    "\n",
    "recipes=np.genfromtxt(\"recipes.csv\",delimiter=(\",\"))\n",
    "\n",
    "print(recipes)\n",
    "#Selecting the column for egg\n",
    "eggs=recipes[:,2]\n",
    "eggs_1=recipes[eggs==1]\n",
    "# print(eggs)\n",
    "# print(eggs==1)\n",
    "\n",
    "cookies=recipes[2,0:5]\n",
    "# print(cookies)\n",
    "\n",
    "double_batch=cupcakes*2\n",
    "# print(double_batch)\n",
    "\n",
    "grocery_list=cookies+double_batch\n",
    "print(grocery_list)"
   ]
  }
 ],
 "metadata": {
  "kernelspec": {
   "display_name": "Python 3",
   "language": "python",
   "name": "python3"
  },
  "language_info": {
   "codemirror_mode": {
    "name": "ipython",
    "version": 3
   },
   "file_extension": ".py",
   "mimetype": "text/x-python",
   "name": "python",
   "nbconvert_exporter": "python",
   "pygments_lexer": "ipython3",
   "version": "3.7.6"
  }
 },
 "nbformat": 4,
 "nbformat_minor": 4
}
